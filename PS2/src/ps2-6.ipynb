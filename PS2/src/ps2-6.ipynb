{
 "cells": [
  {
   "cell_type": "markdown",
   "id": "dd1e8fce-6cf0-42a6-98d8-89980fcaa347",
   "metadata": {},
   "source": [
    "# 6. Spam classification\n",
    "\n",
    "Recall that in Naive bayes model, we represent an email as a feature vector $x$, where $x_j = 1$ if the $j_{th}$ word in the dictionary appears in the email and $x_j = 0$ if not. The length of $x$ is the size of the dictionary. According to Bayes rule,\n",
    "\n",
    "$$\n",
    "\\begin{align}\n",
    "P(y=1 | x) &= \\frac{P(x|y=1) P(y=1)}{P(x)} \n",
    "\\\\\n",
    "&= \\frac{P(x|y=1) P(y=1)}{P(x|y=1) P(y=1) + P(x|y=0) P(y=0)}\n",
    "\\end{align}\n",
    "$$\n",
    "\n",
    "According to the Naive Bayes assumption, we have\n",
    "\n",
    "$$P(x|y=1) = \\prod_{j=1}^n P(x_j|y=1)$$\n",
    "\n",
    "and \n",
    "\n",
    "$$P(x|y=0) = \\prod_{j=1}^n P(x_j|y=0)$$\n",
    "\n",
    "So\n",
    "\n",
    "$$P(y=1 | x) = \\frac{\\prod_{j=1}^n P(x_j|y=1) P(y=1)}{\\prod_{j=1}^n P(x_j|y=1) P(y=1) + \\prod_{j=1}^n P(x_j|y=0) P(y=0)}$$\n",
    "\n",
    "We define out model parameters as\n",
    "\n",
    "$$\\phi_y = P(y=1)$$\n",
    "\n",
    "$$\\phi_{j|y=1} = P(x_j=1|y=1)$$\n",
    "\n",
    "$$\\phi_{j|y=0} = P(x_j=1|y=0)$$\n",
    "\n",
    "By maximizing the joint likelihood\n",
    "\n",
    "$$L(\\phi_y, \\phi_{j|y=0},\\phi_{j|y=1}) = \\prod_{i=1}^m p (x^{(i)}, y^{(i)})$$\n",
    "\n",
    "we can derive the MLE of the parameters:\n",
    "\n",
    "$$\\phi_{j|y=0} = \\frac{\\sum_i^m 1\\{x_j^{(i)} = 1 \\wedge y^{(i)} = 0\\}  }{\\sum_i^m 1\\{y^{(i)} = 0\\}}$$\n",
    "\n",
    "$$\\phi_{j|y=1} = \\frac{\\sum_i^m 1\\{x_j^{(i)} = 1 \\wedge y^{(i)} = 1\\}  }{\\sum_i^m 1\\{y^{(i)} = 1\\}}$$\n",
    "\n",
    "$$\\phi_y = \\frac{\\sum_i^m 1\\{y^{(i)} = 1\\}  }{m}$$\n",
    "\n",
    "After applying Laplace smoothing, we have\n",
    "\n",
    "$$\\phi_{j|y=0} = \\frac{1+\\sum_i^m 1\\{x_j^{(i)} = 1 \\wedge y^{(i)} = 0\\}}{2+\\sum_i^m 1\\{y^{(i)} = 0\\}}$$\n",
    "\n",
    "$$\\phi_{j|y=1} = \\frac{1+\\sum_i^m 1\\{x_j^{(i)} = 1 \\wedge y^{(i)} = 1\\}}{2+\\sum_i^m 1\\{y^{(i)} = 1\\}}$$\n",
    "\n",
    "(We don't need to apply Laplace smoothing to $\\phi_y$)"
   ]
  },
  {
   "cell_type": "code",
   "execution_count": 1,
   "id": "d89ab09c-7145-4e1c-b3fd-0dc376ed7295",
   "metadata": {},
   "outputs": [
    {
     "name": "stdout",
     "output_type": "stream",
     "text": [
      "Naive Bayes had an accuracy of 0.9802867383512545 on the testing set\n",
      "(1721,)\n",
      "The top 5 indicative words for Naive Bayes are:  ['claim', 'won', 'prize', 'urgent!', 'awarded']\n",
      "The optimal SVM radius was 0.1\n",
      "The SVM model had an accuracy of 0.9695340501792115 on the testing set\n"
     ]
    }
   ],
   "source": [
    "# for auto-reloading external modules\n",
    "# see http://stackoverflow.com/questions/1907993/autoreload-of-modules-in-ipython\n",
    "%load_ext autoreload\n",
    "%autoreload 2\n",
    "\n",
    "from p06_spam import main\n",
    "main()"
   ]
  },
  {
   "cell_type": "code",
   "execution_count": null,
   "id": "77688934-be62-4379-8d9b-118b42e7aa2b",
   "metadata": {},
   "outputs": [],
   "source": []
  }
 ],
 "metadata": {
  "kernelspec": {
   "display_name": "Python 3 (ipykernel)",
   "language": "python",
   "name": "python3"
  },
  "language_info": {
   "codemirror_mode": {
    "name": "ipython",
    "version": 3
   },
   "file_extension": ".py",
   "mimetype": "text/x-python",
   "name": "python",
   "nbconvert_exporter": "python",
   "pygments_lexer": "ipython3",
   "version": "3.12.6"
  }
 },
 "nbformat": 4,
 "nbformat_minor": 5
}
