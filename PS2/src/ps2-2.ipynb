{
 "cells": [
  {
   "cell_type": "markdown",
   "id": "acd30c1e-f889-4dd7-be7b-a8bce919ea1d",
   "metadata": {},
   "source": [
    "(a)\n",
    "\n",
    "Recall that in logistic regression, we find $\\theta$ by maximizing the log likelihood:\n",
    "\n",
    "$$l = \\sum_{i=1}^m [y^{(i)}\\ln(h_\\theta(x^{(i)})) + (1 - y^{(i)})\\ln(1-h_\\theta(x^{(i)}))]$$\n",
    "\n",
    "which is the same as setting the gradient with respect to $\\theta$ to 0:\n",
    "\n",
    "$$0 = \\frac{\\partial l}{\\partial \\theta_j} = \\sum_{i=0}^m (y^{(i)} - h_\\theta(x^{(i)}))x_j^{(i)}$$\n",
    "\n",
    "Consider $j=0$. Recall that $x_0^{(i)} = 1$. So we have:\n",
    "\n",
    "$$0 = \\sum_{i=0}^m (y^{(i)} - h_\\theta(x^{(i)}))$$\n",
    "\n",
    "Or\n",
    "\n",
    "$$\\frac{1}{m}\\sum_{i=0}^mh_\\theta(x^{(i)}) = \\frac{1}{m} \\sum_{i=0}^m y^{(i)}$$\n",
    "\n",
    "(b)\n",
    "\n",
    "No. The converse is not true either.\n",
    "\n",
    "Consider the case $a = 0.5, b =1$. In the set $I_{a,b}$, we have $0.5 < h_\\theta(x) < 1$, so the prediction will be 1. If the model achieves perfect accuracy, this means all the labels $y^{(i)}$ in set $I_{a,b}$ will be indeed 1. This means the right hand side of the calibration property equation is 1. But the left hand side of the equation, which averages all the $h_\\theta(x^{(i)}) \\; ( i \\in (a,b))$, is between 1/2 and 1. This means the calibration property is not hold if the model achieves perfect accuracy. It is also obvious that if the model is perfectly calibrated, then the right hand side of the equation must be less than 1, which means the model cannot achieve perfect accuracy.\n",
    "\n",
    "\n",
    "(c)\n",
    "\n",
    "Following the idea in (a), adding the regularization term $\\frac{\\lambda}{2} ||\\theta||_2^2$ leads to\n",
    "\n",
    "$$\\sum_{i=0}^m y^{(i)} = \\lambda \\theta_0 + \\sum_{i=0}^mh_\\theta(x^{(i)})$$\n",
    "\n",
    "So the model is no longer calibrated."
   ]
  }
 ],
 "metadata": {
  "kernelspec": {
   "display_name": "Python 3 (ipykernel)",
   "language": "python",
   "name": "python3"
  },
  "language_info": {
   "codemirror_mode": {
    "name": "ipython",
    "version": 3
   },
   "file_extension": ".py",
   "mimetype": "text/x-python",
   "name": "python",
   "nbconvert_exporter": "python",
   "pygments_lexer": "ipython3",
   "version": "3.12.6"
  }
 },
 "nbformat": 4,
 "nbformat_minor": 5
}
