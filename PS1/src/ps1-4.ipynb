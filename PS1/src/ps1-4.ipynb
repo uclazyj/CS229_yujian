{
 "cells": [
  {
   "cell_type": "markdown",
   "id": "1c54a0e3-ca39-4909-bacf-33faa57c09be",
   "metadata": {},
   "source": [
    "(a)\n",
    "\n",
    "Using the hint, we have\n",
    "\n",
    "$$\\int \\frac{\\partial}{\\partial \\eta} p(y;\\eta) dy =  \\frac{\\partial}{\\partial \\eta} \\int p(y;\\eta) dy = \\frac{\\partial}{\\partial \\eta} 1 = 0$$\n",
    "\n",
    "Also\n",
    "\n",
    "$$\\int \\frac{\\partial}{\\partial \\eta} p(y;\\eta) dy = \\int p(y;\\eta) (y-a'(\\eta)) dy$$\n",
    "\n",
    "So\n",
    "\n",
    "$$\\int p(y;\\eta) (y-a'(\\eta)) dy = 0$$\n",
    "\n",
    "Therefore\n",
    "\n",
    "$$E[Y;\\eta] = \\int y p(y;\\eta)dy = \\int p(y;\\eta) a'(\\eta) dy = a'(\\eta) \\int p(y;\\eta)  dy = a'(\\eta)$$\n",
    "\n",
    "(b) \n",
    "\n",
    "From \n",
    "\n",
    "$$a'(\\eta) = E[Y;\\eta] =  \\int y p(y;\\eta)dy$$\n",
    "\n",
    "Taking a derivative with respect to $\\eta$, we have\n",
    "\n",
    "$$\n",
    "\\begin{align}\n",
    "a''(\\eta) &= \\int y p(y;\\eta)(y-a'(\\eta))dy\n",
    "\\\\\n",
    "&= \\int y^2 p(y;\\eta)dy -a'(\\eta) \\int y p(y;\\eta) dy\n",
    "\\\\\n",
    "&= E[Y^2;\\eta] - (E[Y;\\eta])^2\n",
    "\\\\\n",
    "&=Var[Y;\\eta]\n",
    "\\end{align}$$\n",
    "\n",
    "(c)\n",
    "\n",
    "The likelihood:\n",
    "\n",
    "$$L = \\prod_{i=1}^m p^{(i)}$$\n",
    "\n",
    "The loss function (NLL) is:\n",
    "\n",
    "$$l = -\\ln \\prod_{i=1}^m p^{(i)} = -\\sum_{i=1}^m \\ln p^{(i)} = -\\sum_{i=1}^m \\ln b(y^{(i)}) e^{(\\theta^T x^{(i)} y^{(i)}) - a(\\theta^T x^{(i)})} = -\\sum_{i=1}^m \\ln b(y^{(i)})  + \\theta^T x^{(i)} y^{(i)} - a(\\theta^T x^{(i)}) $$\n",
    "\n",
    "\n",
    "$$\\frac{\\partial l}{\\partial \\theta_j} = -\\sum_{i=1}^m x_j^{(i)} y^{(i)} - a'(\\theta^T x^{(i)})x_j^{(i)} = \\sum_{i=1}^m  (a'(\\theta^T x^{(i)})-y^{(i)})x_j^{(i)}$$\n",
    "\n",
    "$$H_{jk} = \\frac{\\partial^2 l}{\\partial \\theta_j \\partial \\theta_k} = \\sum_{i=1}^m  a''(\\theta^T x^{(i)})x_j^{(i)} x_k^{(i)}$$\n",
    "\n",
    "$$z^T H z = \\sum_{i=1}^m \\sum_{j=1}^n \\sum_{k=1}^n a''(\\theta^T x^{(i)})z_jx_j^{(i)} x_k^{(i)} z_k = \\sum_{i=1}^m a''(\\theta^T x^{(i)}) (z^T x^{(i)})^2 \\geq 0$$\n",
    "\n",
    "The last step used that $a'' \\geq 0$ since it is a variance."
   ]
  }
 ],
 "metadata": {
  "kernelspec": {
   "display_name": "Python 3 (ipykernel)",
   "language": "python",
   "name": "python3"
  },
  "language_info": {
   "codemirror_mode": {
    "name": "ipython",
    "version": 3
   },
   "file_extension": ".py",
   "mimetype": "text/x-python",
   "name": "python",
   "nbconvert_exporter": "python",
   "pygments_lexer": "ipython3",
   "version": "3.12.6"
  }
 },
 "nbformat": 4,
 "nbformat_minor": 5
}
